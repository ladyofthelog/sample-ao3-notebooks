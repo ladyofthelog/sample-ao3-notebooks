{
 "cells": [
  {
   "cell_type": "code",
   "execution_count": null,
   "metadata": {},
   "outputs": [],
   "source": [
    "import sys\n",
    "import requests"
   ]
  },
  {
   "cell_type": "code",
   "execution_count": null,
   "metadata": {},
   "outputs": [],
   "source": [
    "from ao3 import AO3"
   ]
  },
  {
   "cell_type": "code",
   "execution_count": null,
   "metadata": {},
   "outputs": [],
   "source": [
    "req = requests.Session()\n",
    "req.cookies.set('_otwarchive_session', 'SESSION') #you need to paste in your session id here\n",
    "req.cookies.set('user_credentials', '1') #ao3 bounces users to the force-logout page if this isn't set\n",
    "api = AO3()\n",
    "api.set_session(req)"
   ]
  },
  {
   "cell_type": "markdown",
   "metadata": {},
   "source": [
    "This notebook assumes you have a list of workIDs handy in \"user-IDs.csv\"."
   ]
  },
  {
   "cell_type": "code",
   "execution_count": null,
   "metadata": {},
   "outputs": [],
   "source": [
    "def lookup(work, attribute):\n",
    "    try: \n",
    "        if attribute == 'category':\n",
    "            return work.category\n",
    "        elif attribute == 'relationship':\n",
    "            return work.relationship\n",
    "        elif attribute == 'characters':\n",
    "            return work.characters\n",
    "        elif attribute == 'additional_tags':\n",
    "            return work.additional_tags\n",
    "        elif attribute == 'bookmarks':\n",
    "            return work.bookmarks\n",
    "        elif attribute == 'kudos':\n",
    "            return work.kudos\n",
    "        elif attribute == 'hits':\n",
    "            return work.hits\n",
    "        elif attribute == 'comments':\n",
    "            return work.comments\n",
    "    except: \n",
    "        return \"N/A\""
   ]
  },
  {
   "cell_type": "code",
   "execution_count": null,
   "metadata": {},
   "outputs": [],
   "source": [
    "import csv\n",
    "import requests\n",
    "\n",
    "rejected = []\n",
    "\n",
    "with open('user-stats.csv', 'w', newline='') as csvfile:\n",
    "    workswriter = csv.writer(csvfile, delimiter=',',\n",
    "                            quotechar='\"', quoting=csv.QUOTE_MINIMAL)\n",
    "    with open('user-IDs.csv') as allworks:\n",
    "        for workID in allworks:\n",
    "            try:\n",
    "                work = api.work(workID.strip())\n",
    "            except Exception as e:\n",
    "                print(str(e))\n",
    "                rejected.append(workID)\n",
    "                print('rejecting ', workID)\n",
    "                continue\n",
    "            # and then we acccess shit:\n",
    "            category = lookup(work, 'category')\n",
    "            relationship = lookup(work, 'relationship')\n",
    "            characters = lookup(work, 'characters')\n",
    "            additional_tags = lookup(work, 'additional_tags')\n",
    "            kudos = lookup(work, 'kudos')\n",
    "            bookmarks = lookup(work, 'bookmarks')\n",
    "            comments = lookup(work, 'comments')\n",
    "            hits = lookup(work, 'hits')\n",
    "            print(workID)\n",
    "            workswriter.writerow([work.title, str(work.author), work.rating, category, work.fandoms, relationship, characters, additional_tags, work.published, comments, kudos, work.words, bookmarks, hits, workID])\n",
    "            \n",
    "print('these works failed: ', rejected)\n"
   ]
  }
 ],
 "metadata": {
  "kernelspec": {
   "display_name": "Python 3",
   "language": "python",
   "name": "python3"
  },
  "language_info": {
   "codemirror_mode": {
    "name": "ipython",
    "version": 3
   },
   "file_extension": ".py",
   "mimetype": "text/x-python",
   "name": "python",
   "nbconvert_exporter": "python",
   "pygments_lexer": "ipython3",
   "version": "3.8.4"
  }
 },
 "nbformat": 4,
 "nbformat_minor": 2
}
